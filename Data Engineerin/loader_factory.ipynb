{
 "cells": [
  {
   "cell_type": "code",
   "execution_count": 0,
   "metadata": {
    "application/vnd.databricks.v1+cell": {
     "cellMetadata": {
      "byteLimit": 2048000,
      "rowLimit": 10000
     },
     "inputWidgets": {},
     "nuid": "0014abb5-3dbe-4d70-8fc5-d339520cf25f",
     "showTitle": false,
     "title": ""
    }
   },
   "outputs": [],
   "source": [
    "class DataSink:\n",
    "    \"\"\"\n",
    "    abstract class\n",
    "    \"\"\"\n",
    "    def __init__(self,df,path,method,params):\n",
    "        self.df = df\n",
    "        self.path = path\n",
    "        self.method = method\n",
    "        self.params = params\n",
    "\n",
    "    def load_data_frame(self):\n",
    "        \"\"\"\n",
    "        abstart method, function will be define in sub classes\n",
    "        \"\"\"\n",
    "        return ValueError(\"Not Implemented\")\n",
    "    \n",
    "class loadToDBFS(DataSink):\n",
    "\n",
    "    def load_data_frame(self):\n",
    "        self.df.write.mode(self.method).save(self.path)\n",
    "\n",
    "class loadToDBFSwithPartition(DataSink):\n",
    "\n",
    "    def load_data_frame(self):\n",
    "        partitionByColumns = self.params.get(\"partitionByColumns\")\n",
    "        self.df.write.mode(self.method).partitionBy(*partitionByColumns).save(self.path)\n",
    "\n",
    "\n",
    "class loadToDeltaTable(DataSink):\n",
    "\n",
    "    def load_data_frame(self):\n",
    "        self.df.write.format(\"delta\").mode(self.method).saveAsTable(self.path)\n",
    "\n",
    "\n",
    "def get_sink_source(sink_type,df,path,method,params=None):\n",
    "    if sink_type == \"dbfs\":\n",
    "        return loadToDBFS(df,path,method,params)\n",
    "    elif sink_type == \"dbfs_with_partition\":\n",
    "        return loadToDBFSwithPartition(df,path,method,params)\n",
    "    elif sink_type == \"delta\":\n",
    "        return loadToDeltaTable(df,path,method,params)\n",
    "    else:\n",
    "        return ValueError(f\"Not Implemented for sink_type{sink_type}\")\n",
    "\n"
   ]
  }
 ],
 "metadata": {
  "application/vnd.databricks.v1+notebook": {
   "dashboards": [],
   "environmentMetadata": null,
   "language": "python",
   "notebookMetadata": {
    "pythonIndentUnit": 4
   },
   "notebookName": "loader_factory",
   "widgets": {}
  }
 },
 "nbformat": 4,
 "nbformat_minor": 0
}
