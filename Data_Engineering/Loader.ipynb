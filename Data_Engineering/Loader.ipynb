{
 "cells": [
  {
   "cell_type": "code",
   "execution_count": 0,
   "metadata": {
    "application/vnd.databricks.v1+cell": {
     "cellMetadata": {
      "byteLimit": 2048000,
      "rowLimit": 10000
     },
     "inputWidgets": {},
     "nuid": "ad7156bf-76b3-400a-a072-5a2584e70d57",
     "showTitle": false,
     "title": ""
    }
   },
   "outputs": [],
   "source": [
    "%run \"./loader_factory\""
   ]
  },
  {
   "cell_type": "code",
   "execution_count": 0,
   "metadata": {
    "application/vnd.databricks.v1+cell": {
     "cellMetadata": {
      "byteLimit": 2048000,
      "rowLimit": 10000
     },
     "inputWidgets": {},
     "nuid": "adf953a3-c204-4a4c-9ade-393f8e26af3b",
     "showTitle": false,
     "title": ""
    }
   },
   "outputs": [],
   "source": [
    "class AbstractLoader:\n",
    "    \n",
    "    def __init__(self, transformedDF):\n",
    "        self.transformedDF = transformedDF\n",
    "\n",
    "    def sink(self):\n",
    "        pass\n",
    "\n",
    "class AirpodsAfterIphoneLoader(AbstractLoader):\n",
    "\n",
    "    def sink(self):\n",
    "        get_sink_source(\n",
    "            sink_type = \"dbfs\",\n",
    "            df = self.transformedDF,\n",
    "            path = \"dbfs:/FileStore/tables/apple_Analysis/AirpodsAfterIphoneLoader\",\n",
    "            method = \"overwrite\"\n",
    "        ).load_data_frame()\n",
    "\n",
    "class AirpodsAndIphoneLoader(AbstractLoader):\n",
    "\n",
    "    def sink(self):\n",
    "        params = {\n",
    "            \"partitionByColumns\" : [\"location\"]\n",
    "        }\n",
    "        get_sink_source(\n",
    "            sink_type = \"dbfs_with_partition\",\n",
    "            df = self.transformedDF,\n",
    "            path = \"dbfs:/FileStore/tables/apple_Analysis/AirpodsAndIphone\",\n",
    "            method = \"overwrite\",\n",
    "            params = params\n",
    "        ).load_data_frame()\n",
    "\n",
    "        get_sink_source(\n",
    "            sink_type = \"delta\",\n",
    "            df = self.transformedDF,\n",
    "            path = \"default.onlyAirpodsAndIphones\",\n",
    "            method = \"overwrite\",\n",
    "        ).load_data_frame()"
   ]
  }
 ],
 "metadata": {
  "application/vnd.databricks.v1+notebook": {
   "dashboards": [],
   "environmentMetadata": null,
   "language": "python",
   "notebookMetadata": {
    "pythonIndentUnit": 4
   },
   "notebookName": "Loader",
   "widgets": {}
  }
 },
 "nbformat": 4,
 "nbformat_minor": 0
}
